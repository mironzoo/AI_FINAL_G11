{
 "cells": [
  {
   "cell_type": "markdown",
   "metadata": {},
   "source": [
    "<h1>Importing and Configurations/Constants</h1>"
   ]
  },
  {
   "cell_type": "code",
   "execution_count": 1,
   "metadata": {},
   "outputs": [],
   "source": [
    "import numpy as np\n",
    "import matplotlib.pyplot as plt\n",
    "import glob\n",
    "import cv2\n",
    "\n",
    "from tensorflow.keras.utils import to_categorical\n",
    "from keras.models import Model, Sequential\n",
    "from keras.layers import Dense, Flatten, Conv2D, MaxPooling2D\n",
    "from keras.layers.normalization import batch_normalization\n",
    "from keras.applications.vgg16 import VGG16\n",
    "\n",
    "from sklearn import preprocessing\n",
    "\n",
    "import os\n",
    "import seaborn as sns\n",
    "\n"
   ]
  },
  {
   "cell_type": "code",
   "execution_count": 2,
   "metadata": {},
   "outputs": [],
   "source": [
    "train_dir = './Pneumonia_Dataset/chest_xray/train/*'\n",
    "test_dir = './Pneumonia_Dataset/chest_xray/test/*'\n",
    "pred_dir =  './Pneumonia_Dataset/chest_xray/val/*'"
   ]
  },
  {
   "cell_type": "markdown",
   "metadata": {},
   "source": [
    "<h1>DATA PREPARATION</h1>"
   ]
  },
  {
   "cell_type": "markdown",
   "metadata": {},
   "source": [
    "<h1>Training Images and Label Retrieval</h1>"
   ]
  },
  {
   "cell_type": "code",
   "execution_count": 3,
   "metadata": {},
   "outputs": [
    {
     "name": "stdout",
     "output_type": "stream",
     "text": [
      "NORMAL\n",
      "PNEUMONIA\n"
     ]
    }
   ],
   "source": [
    "train_imgs = []\n",
    "train_lbls = []\n",
    "for dir_path in glob.glob(train_dir):\n",
    "    label = dir_path.split(\"\\\\\")[-1]\n",
    "    print(label)\n",
    "    for img_path in glob.glob(os.path.join(dir_path, '*.jpeg')):\n",
    "        #print(img_path)\n",
    "        img = cv2.imread(img_path, cv2.IMREAD_COLOR)\n",
    "        img = cv2.resize(img, (224,224))\n",
    "        img = cv2.cvtColor(img, cv2.COLOR_RGB2BGR)\n",
    "        train_imgs.append(img)\n",
    "        train_lbls.append(label)\n"
   ]
  },
  {
   "cell_type": "code",
   "execution_count": 4,
   "metadata": {},
   "outputs": [],
   "source": [
    "train_imgs = np.array(train_imgs)\n",
    "train_lbls = np.array(train_lbls)"
   ]
  },
  {
   "cell_type": "markdown",
   "metadata": {},
   "source": [
    "<h1>Test Images and Label Retrieval</h1>"
   ]
  },
  {
   "cell_type": "code",
   "execution_count": 5,
   "metadata": {},
   "outputs": [
    {
     "name": "stdout",
     "output_type": "stream",
     "text": [
      "NORMAL\n",
      "PNEUMONIA\n"
     ]
    }
   ],
   "source": [
    "test_imgs = []\n",
    "test_lbls = []\n",
    "for dir_path in glob.glob(test_dir):\n",
    "    label = dir_path.split(\"\\\\\")[-1]\n",
    "    print(label)\n",
    "    counter = 0\n",
    "    for img_path in glob.glob(os.path.join(dir_path, '*.jpeg')):\n",
    "        #print(img_path)\n",
    "        if counter > 500:\n",
    "            break\n",
    "        img = cv2.imread(img_path, cv2.IMREAD_COLOR)\n",
    "        img = cv2.resize(img, (224,224))\n",
    "        img = cv2.cvtColor(img, cv2.COLOR_RGB2BGR)\n",
    "        test_imgs.append(img)\n",
    "        test_lbls.append(label)\n",
    "        counter += 1"
   ]
  },
  {
   "cell_type": "code",
   "execution_count": 6,
   "metadata": {},
   "outputs": [],
   "source": [
    "test_imgs = np.array(test_imgs)\n",
    "test_lbls = np.array(test_lbls)"
   ]
  },
  {
   "cell_type": "markdown",
   "metadata": {},
   "source": [
    "<h1>Encode labels from text to integers</h1>"
   ]
  },
  {
   "cell_type": "code",
   "execution_count": 7,
   "metadata": {},
   "outputs": [],
   "source": [
    "label_encoder = preprocessing.LabelEncoder()\n",
    "label_encoder.fit(test_lbls)\n",
    "test_e = label_encoder.transform(test_lbls)\n",
    "label_encoder.fit(train_lbls)\n",
    "train_e = label_encoder.transform(train_lbls)"
   ]
  },
  {
   "cell_type": "code",
   "execution_count": 8,
   "metadata": {},
   "outputs": [],
   "source": [
    "x_train, y_train, x_test, y_test = train_imgs, train_e, test_imgs, test_e\n",
    "x_train = x_train/255.0\n",
    "x_test = x_test/255.0"
   ]
  },
  {
   "cell_type": "code",
   "execution_count": 9,
   "metadata": {},
   "outputs": [],
   "source": [
    "y_train_onehot = to_categorical(y_train)\n",
    "y_test_onehot = to_categorical(y_test)"
   ]
  },
  {
   "cell_type": "markdown",
   "metadata": {},
   "source": [
    "<h1> LOADING VGG MODEL FOR FEATURE EXTRACTION</h1>"
   ]
  },
  {
   "cell_type": "code",
   "execution_count": 10,
   "metadata": {},
   "outputs": [
    {
     "name": "stdout",
     "output_type": "stream",
     "text": [
      "Model: \"vgg16\"\n",
      "_________________________________________________________________\n",
      "Layer (type)                 Output Shape              Param #   \n",
      "=================================================================\n",
      "input_1 (InputLayer)         [(None, 224, 224, 3)]     0         \n",
      "_________________________________________________________________\n",
      "block1_conv1 (Conv2D)        (None, 224, 224, 64)      1792      \n",
      "_________________________________________________________________\n",
      "block1_conv2 (Conv2D)        (None, 224, 224, 64)      36928     \n",
      "_________________________________________________________________\n",
      "block1_pool (MaxPooling2D)   (None, 112, 112, 64)      0         \n",
      "_________________________________________________________________\n",
      "block2_conv1 (Conv2D)        (None, 112, 112, 128)     73856     \n",
      "_________________________________________________________________\n",
      "block2_conv2 (Conv2D)        (None, 112, 112, 128)     147584    \n",
      "_________________________________________________________________\n",
      "block2_pool (MaxPooling2D)   (None, 56, 56, 128)       0         \n",
      "_________________________________________________________________\n",
      "block3_conv1 (Conv2D)        (None, 56, 56, 256)       295168    \n",
      "_________________________________________________________________\n",
      "block3_conv2 (Conv2D)        (None, 56, 56, 256)       590080    \n",
      "_________________________________________________________________\n",
      "block3_conv3 (Conv2D)        (None, 56, 56, 256)       590080    \n",
      "_________________________________________________________________\n",
      "block3_pool (MaxPooling2D)   (None, 28, 28, 256)       0         \n",
      "_________________________________________________________________\n",
      "block4_conv1 (Conv2D)        (None, 28, 28, 512)       1180160   \n",
      "_________________________________________________________________\n",
      "block4_conv2 (Conv2D)        (None, 28, 28, 512)       2359808   \n",
      "_________________________________________________________________\n",
      "block4_conv3 (Conv2D)        (None, 28, 28, 512)       2359808   \n",
      "_________________________________________________________________\n",
      "block4_pool (MaxPooling2D)   (None, 14, 14, 512)       0         \n",
      "_________________________________________________________________\n",
      "block5_conv1 (Conv2D)        (None, 14, 14, 512)       2359808   \n",
      "_________________________________________________________________\n",
      "block5_conv2 (Conv2D)        (None, 14, 14, 512)       2359808   \n",
      "_________________________________________________________________\n",
      "block5_conv3 (Conv2D)        (None, 14, 14, 512)       2359808   \n",
      "_________________________________________________________________\n",
      "block5_pool (MaxPooling2D)   (None, 7, 7, 512)         0         \n",
      "=================================================================\n",
      "Total params: 14,714,688\n",
      "Trainable params: 14,714,688\n",
      "Non-trainable params: 0\n",
      "_________________________________________________________________\n"
     ]
    }
   ],
   "source": [
    "vgg = VGG16(weights='imagenet', include_top=False, input_shape=(224,224,3))"
   ]
  },
  {
   "cell_type": "code",
   "execution_count": 11,
   "metadata": {},
   "outputs": [],
   "source": [
    "for layer in vgg.layers:\n",
    "    layer.trainable = False"
   ]
  },
  {
   "cell_type": "code",
   "execution_count": 12,
   "metadata": {},
   "outputs": [],
   "source": [
    "feature_extractor = vgg.predict(x_train)\n",
    "features = feature_extractor.reshape(feature_extractor.shape[0], -1)"
   ]
  },
  {
   "cell_type": "code",
   "execution_count": 13,
   "metadata": {},
   "outputs": [],
   "source": [
    "X_for_RF = features"
   ]
  },
  {
   "cell_type": "markdown",
   "metadata": {},
   "source": [
    "<h1>FEEDING DATA INTO RANDOM FOREST CLASSIFICATION MODEL</h1>"
   ]
  },
  {
   "cell_type": "code",
   "execution_count": 14,
   "metadata": {},
   "outputs": [],
   "source": [
    "from sklearn.ensemble import RandomForestClassifier\n"
   ]
  },
  {
   "cell_type": "code",
   "execution_count": 16,
   "metadata": {},
   "outputs": [
    {
     "data": {
      "text/plain": [
       "RandomForestClassifier(n_estimators=200, random_state=10)"
      ]
     },
     "execution_count": 16,
     "metadata": {},
     "output_type": "execute_result"
    }
   ],
   "source": [
    "rf = RandomForestClassifier(n_estimators=200, random_state=10)\n",
    "rf.fit(X_for_RF, y_train)"
   ]
  },
  {
   "cell_type": "code",
   "execution_count": 17,
   "metadata": {},
   "outputs": [],
   "source": [
    "x_test_feature = vgg.predict(x_test)\n",
    "x_test_features = x_test_feature.reshape(x_test_feature.shape[0], -1)"
   ]
  },
  {
   "cell_type": "code",
   "execution_count": 18,
   "metadata": {},
   "outputs": [],
   "source": [
    "prediction = rf.predict(x_test_features)\n",
    "prediction = label_encoder.inverse_transform(prediction)"
   ]
  },
  {
   "cell_type": "code",
   "execution_count": 19,
   "metadata": {},
   "outputs": [
    {
     "name": "stdout",
     "output_type": "stream",
     "text": [
      "[[210 128]\n",
      " [  7 494]]\n"
     ]
    },
    {
     "data": {
      "text/plain": [
       "<AxesSubplot:>"
      ]
     },
     "execution_count": 19,
     "metadata": {},
     "output_type": "execute_result"
    },
    {
     "data": {
      "image/png": "[encoded data removed]",
      "text/plain": [
       "<Figure size 432x288 with 2 Axes>"
      ]
     },
     "metadata": {
      "needs_background": "light"
     },
     "output_type": "display_data"
    }
   ],
   "source": [
    "#Confusion Matrix - verify accuracy of each class\n",
    "from sklearn import metrics\n",
    "\n",
    "cm = metrics.confusion_matrix(test_lbls, prediction)\n",
    "print(cm)\n",
    "sns.heatmap(cm, annot=True)"
   ]
  },
  {
   "cell_type": "code",
   "execution_count": 20,
   "metadata": {},
   "outputs": [
    {
     "name": "stdout",
     "output_type": "stream",
     "text": [
      "Accuracy:  0.8390941597139452\n"
     ]
    }
   ],
   "source": [
    "print('Accuracy: ', metrics.accuracy_score(test_lbls, prediction))"
   ]
  },
  {
   "cell_type": "code",
   "execution_count": 31,
   "metadata": {},
   "outputs": [
    {
     "name": "stdout",
     "output_type": "stream",
     "text": [
      "Prediction:  ['PNEUMONIA']  >>> Actual:  PNEUMONIA   Correct!\n",
      "Prediction:  ['PNEUMONIA']  >>> Actual:  NORMAL   Incorrect!\n",
      "Prediction:  ['PNEUMONIA']  >>> Actual:  PNEUMONIA   Correct!\n",
      "Prediction:  ['PNEUMONIA']  >>> Actual:  PNEUMONIA   Correct!\n",
      "Prediction:  ['PNEUMONIA']  >>> Actual:  PNEUMONIA   Correct!\n",
      "Prediction:  ['PNEUMONIA']  >>> Actual:  PNEUMONIA   Correct!\n",
      "Prediction:  ['PNEUMONIA']  >>> Actual:  PNEUMONIA   Correct!\n",
      "Prediction:  ['PNEUMONIA']  >>> Actual:  PNEUMONIA   Correct!\n",
      "Prediction:  ['PNEUMONIA']  >>> Actual:  PNEUMONIA   Correct!\n",
      "Prediction:  ['NORMAL']  >>> Actual:  NORMAL   Correct!\n",
      "Prediction:  ['NORMAL']  >>> Actual:  NORMAL   Correct!\n",
      "Prediction:  ['PNEUMONIA']  >>> Actual:  PNEUMONIA   Correct!\n",
      "Prediction:  ['NORMAL']  >>> Actual:  NORMAL   Correct!\n",
      "Prediction:  ['PNEUMONIA']  >>> Actual:  PNEUMONIA   Correct!\n",
      "Prediction:  ['NORMAL']  >>> Actual:  NORMAL   Correct!\n",
      "Prediction:  ['NORMAL']  >>> Actual:  PNEUMONIA   Incorrect!\n",
      "Prediction:  ['NORMAL']  >>> Actual:  PNEUMONIA   Incorrect!\n",
      "Prediction:  ['PNEUMONIA']  >>> Actual:  PNEUMONIA   Correct!\n",
      "Prediction:  ['PNEUMONIA']  >>> Actual:  PNEUMONIA   Correct!\n",
      "Prediction:  ['PNEUMONIA']  >>> Actual:  PNEUMONIA   Correct!\n",
      "17  out of 20 samples guessed right.\n"
     ]
    },
    {
     "data": {
      "image/png": "[encoded data removed]",
      "text/plain": [
       "<Figure size 432x288 with 1 Axes>"
      ]
     },
     "metadata": {
      "needs_background": "light"
     },
     "output_type": "display_data"
    }
   ],
   "source": [
    "corr_ct = 0\n",
    "for i in range(20):\n",
    "    n = np.random.randint(0, x_test.shape[0])\n",
    "    img = x_test[n]\n",
    "\n",
    "    plt.imshow(img)\n",
    "    input_img = np.expand_dims(img, axis=0)\n",
    "    input_img_feature = vgg.predict(input_img)\n",
    "    input_img_features = input_img_feature.reshape(input_img_feature.shape[0], -1)\n",
    "\n",
    "    prediction = rf.predict(input_img_features)[0]\n",
    "    prediction = label_encoder.inverse_transform([prediction])\n",
    "    correct = 'Incorrect!'\n",
    "    if prediction == test_lbls[n]:\n",
    "        correct = 'Correct!'\n",
    "        corr_ct += 1\n",
    "    print('Prediction: ', prediction, ' >>> Actual: ', test_lbls[n], ' ', correct)\n",
    "print(corr_ct, ' out of 20 samples guessed right.')"
   ]
  },
  {
   "cell_type": "code",
   "execution_count": null,
   "metadata": {},
   "outputs": [],
   "source": []
  }
 ],
 "metadata": {
  "interpreter": {
   "hash": "5b19336457b96b2f6104785f85d00829471e9addfbe1203150769f28f8e1756c"
  },
  "kernelspec": {
   "display_name": "Python 3",
   "language": "python",
   "name": "python3"
  },
  "language_info": {
   "codemirror_mode": {
    "name": "ipython",
    "version": 3
   },
   "file_extension": ".py",
   "mimetype": "text/x-python",
   "name": "python",
   "nbconvert_exporter": "python",
   "pygments_lexer": "ipython3",
   "version": "3.9.2"
  }
 },
 "nbformat": 4,
 "nbformat_minor": 2
}
